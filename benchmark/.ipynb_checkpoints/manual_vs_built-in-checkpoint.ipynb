{
 "cells": [
  {
   "cell_type": "markdown",
   "metadata": {},
   "source": [
    "### Benchmark\n",
    "\n",
    "In this notebook I try check some functions in respect of them execute time.\n",
    "On the over hand I will present manual Python function versus in-build function."
   ]
  },
  {
   "cell_type": "code",
   "execution_count": 1,
   "metadata": {},
   "outputs": [],
   "source": [
    "# imports\n",
    "import numpy as np\n",
    "import matplotlib.pyplot as plt\n",
    "import time\n",
    "import timeit\n",
    "import random\n",
    "import math"
   ]
  },
  {
   "cell_type": "code",
   "execution_count": 2,
   "metadata": {},
   "outputs": [],
   "source": [
    "# test function\n",
    "def test_function(tested_function, n):\n",
    "    before = time.time() \n",
    "    for i in range(1,n):\n",
    "        tested_function\n",
    "    after = time.time()\n",
    "    print('Function run time: {:.3f} ms'.format((after - before)*1000.0))"
   ]
  },
  {
   "cell_type": "code",
   "execution_count": 3,
   "metadata": {},
   "outputs": [],
   "source": [
    "# manual\n",
    "def sum_manual(X):\n",
    "    sum_ = 0\n",
    "    for i in X:\n",
    "        sum_ = sum_ + i\n",
    "    return sum_\n",
    "\n",
    "def length_manual(X):\n",
    "    len_ = 0\n",
    "    for i in X:\n",
    "        len_ += 1\n",
    "    return len_\n",
    "\n",
    "def power_manual(a,b):\n",
    "    power = a**b\n",
    "    return power\n",
    "\n",
    "def factorial_manual(n):\n",
    "    if n == 0:\n",
    "        return 1\n",
    "    else:\n",
    "        return n * factorial_manual(n-1)\n",
    "\n",
    "def mean_manual(X):\n",
    "    N,D = X.shape\n",
    "    mean = np.zeros(D)\n",
    "    for n in range(N):\n",
    "        mean += X[n,:]\n",
    "    mean = mean / N\n",
    "    return mean\n",
    "\n",
    "def cov_manual(X):\n",
    "    N, D = X.shape\n",
    "    covariance = np.zeros((D, D))\n",
    "    mean = mean_manual(X)\n",
    "    for n in range(N):\n",
    "        diff = np.asmatrix(X[n, :] - mean)\n",
    "        covariance += diff.T @ diff\n",
    "    covariance = covariance / (N-1)\n",
    "    return covariance"
   ]
  },
  {
   "cell_type": "code",
   "execution_count": 4,
   "metadata": {},
   "outputs": [],
   "source": [
    "# in-built function\n",
    "def sum_(X):\n",
    "    sum_ = sum(X)\n",
    "    return sum_\n",
    "\n",
    "def length(X):\n",
    "    len_ = len(X)\n",
    "    return len_\n",
    "\n",
    "def power(a,b):\n",
    "    power = pow(a,b)\n",
    "    return power\n",
    "\n",
    "def factorial(n):\n",
    "    factorial = math.factorial(n)\n",
    "    return factorial\n",
    "    \n",
    "def mean(X):\n",
    "    mean = np.mean(X, axis = 0)\n",
    "    return mean\n",
    "\n",
    "def cov(X):\n",
    "    N, D = X.shape\n",
    "    covariance_matrix = np.cov(X, rowvar=False)\n",
    "    return covariance_matrix"
   ]
  },
  {
   "cell_type": "code",
   "execution_count": 5,
   "metadata": {},
   "outputs": [],
   "source": [
    "# benchmarking\n",
    "X = np.random.randn(100000, 20)"
   ]
  },
  {
   "cell_type": "code",
   "execution_count": 6,
   "metadata": {},
   "outputs": [
    {
     "name": "stdout",
     "output_type": "stream",
     "text": [
      "Function run time: 0.023 ms\n",
      "Function run time: 0.024 ms\n"
     ]
    }
   ],
   "source": [
    "a = [random.randint(1,100) for x in range(200000)]\n",
    "test_function(sum_manual(a), 1000)\n",
    "test_function(sum_(a), 1000)"
   ]
  },
  {
   "cell_type": "code",
   "execution_count": 7,
   "metadata": {},
   "outputs": [
    {
     "name": "stdout",
     "output_type": "stream",
     "text": [
      "Function run time: 2331.818 ms\n",
      "Function run time: 2457.034 ms\n"
     ]
    }
   ],
   "source": [
    "a = [random.randint(1,100) for x in range(200000)]\n",
    "test_function(length_manual(a), 100000000)\n",
    "test_function(length(a), 100000000)"
   ]
  },
  {
   "cell_type": "code",
   "execution_count": 8,
   "metadata": {},
   "outputs": [
    {
     "name": "stdout",
     "output_type": "stream",
     "text": [
      "Function run time: 2454.188 ms\n",
      "Function run time: 2454.489 ms\n"
     ]
    }
   ],
   "source": [
    "a = np.random.randint(1,100, size=2000)\n",
    "b = np.random.randint(1,100, size=2000)\n",
    "\n",
    "test_function(power_manual(a,b), 100000000)\n",
    "test_function(power(a,b), 100000000)"
   ]
  },
  {
   "cell_type": "code",
   "execution_count": 9,
   "metadata": {},
   "outputs": [
    {
     "name": "stdout",
     "output_type": "stream",
     "text": [
      "Function run time: 2464.473 ms\n",
      "Function run time: 2466.542 ms\n"
     ]
    }
   ],
   "source": [
    "X = np.random.randn(100000, 20)\n",
    "test_function(mean_manual(X), 100000000)\n",
    "test_function(mean(X), 100000000)"
   ]
  },
  {
   "cell_type": "code",
   "execution_count": 10,
   "metadata": {},
   "outputs": [
    {
     "name": "stdout",
     "output_type": "stream",
     "text": [
      "Function run time: 2466.700 ms\n",
      "Function run time: 2469.929 ms\n"
     ]
    }
   ],
   "source": [
    "X = np.random.randn(100000, 20)\n",
    "test_function(cov_manual(X), 100000000)\n",
    "test_function(cov(X), 100000000)"
   ]
  },
  {
   "cell_type": "code",
   "execution_count": 11,
   "metadata": {},
   "outputs": [
    {
     "name": "stdout",
     "output_type": "stream",
     "text": [
      "CPU times: user 67 µs, sys: 2 µs, total: 69 µs\n",
      "Wall time: 72.2 µs\n",
      "CPU times: user 16 µs, sys: 0 ns, total: 16 µs\n",
      "Wall time: 18.1 µs\n",
      "CPU times: user 16 µs, sys: 0 ns, total: 16 µs\n",
      "Wall time: 17.4 µs\n"
     ]
    }
   ],
   "source": [
    "a = [random.randint(1,100) for x in range(2000)]\n",
    "\n",
    "%time sum_manual(a)\n",
    "%time sum_(a)\n",
    "%time sum(a)\n",
    "pass"
   ]
  },
  {
   "cell_type": "code",
   "execution_count": 12,
   "metadata": {
    "scrolled": true
   },
   "outputs": [
    {
     "name": "stdout",
     "output_type": "stream",
     "text": [
      "CPU times: user 11 µs, sys: 0 ns, total: 11 µs\n",
      "Wall time: 13.4 µs\n",
      "CPU times: user 9 µs, sys: 0 ns, total: 9 µs\n",
      "Wall time: 11.2 µs\n",
      "CPU times: user 8 µs, sys: 0 ns, total: 8 µs\n",
      "Wall time: 10.7 µs\n"
     ]
    }
   ],
   "source": [
    "a = np.array([1, 2, 3, 4, 5, 6, 7, 8, 9, 10])\n",
    "%time sum_manual(a)\n",
    "%time sum_(a)\n",
    "%time sum(a)\n",
    "pass"
   ]
  },
  {
   "cell_type": "markdown",
   "metadata": {},
   "source": [
    "In sum additionaly check how it work with different list."
   ]
  },
  {
   "cell_type": "code",
   "execution_count": 13,
   "metadata": {},
   "outputs": [
    {
     "name": "stdout",
     "output_type": "stream",
     "text": [
      "CPU times: user 64 µs, sys: 2 µs, total: 66 µs\n",
      "Wall time: 67.7 µs\n",
      "CPU times: user 3 µs, sys: 0 ns, total: 3 µs\n",
      "Wall time: 5.01 µs\n",
      "CPU times: user 3 µs, sys: 0 ns, total: 3 µs\n",
      "Wall time: 4.53 µs\n"
     ]
    }
   ],
   "source": [
    "a = [random.randint(1,100) for x in range(2000)]\n",
    "%time length_manual(a)\n",
    "%time length(a)\n",
    "%time len(a)\n",
    "pass"
   ]
  },
  {
   "cell_type": "code",
   "execution_count": 14,
   "metadata": {},
   "outputs": [
    {
     "name": "stdout",
     "output_type": "stream",
     "text": [
      "CPU times: user 3 µs, sys: 0 ns, total: 3 µs\n",
      "Wall time: 5.25 µs\n",
      "CPU times: user 4 µs, sys: 0 ns, total: 4 µs\n",
      "Wall time: 5.48 µs\n",
      "CPU times: user 3 µs, sys: 0 ns, total: 3 µs\n",
      "Wall time: 4.77 µs\n"
     ]
    }
   ],
   "source": [
    "a = random.randint(1,10)\n",
    "b = random.randint(1,10)\n",
    "\n",
    "%time power_manual(a,b)\n",
    "%time power(a,b)\n",
    "%time pow(a,b)\n",
    "pass"
   ]
  },
  {
   "cell_type": "code",
   "execution_count": 15,
   "metadata": {},
   "outputs": [
    {
     "name": "stdout",
     "output_type": "stream",
     "text": [
      "CPU times: user 4 µs, sys: 0 ns, total: 4 µs\n",
      "Wall time: 6.44 µs\n",
      "CPU times: user 4 µs, sys: 0 ns, total: 4 µs\n",
      "Wall time: 5.96 µs\n",
      "CPU times: user 3 µs, sys: 0 ns, total: 3 µs\n",
      "Wall time: 4.53 µs\n"
     ]
    }
   ],
   "source": [
    "n = random.randint(1,10)\n",
    "\n",
    "%time factorial_manual(n)\n",
    "%time factorial(n)\n",
    "%time math.factorial(n)\n",
    "pass"
   ]
  },
  {
   "cell_type": "code",
   "execution_count": 16,
   "metadata": {},
   "outputs": [
    {
     "name": "stdout",
     "output_type": "stream",
     "text": [
      "CPU times: user 156 ms, sys: 10 µs, total: 156 ms\n",
      "Wall time: 155 ms\n",
      "CPU times: user 4.46 ms, sys: 0 ns, total: 4.46 ms\n",
      "Wall time: 2.39 ms\n"
     ]
    }
   ],
   "source": [
    "%time mean_manual(X)\n",
    "%time mean(X)\n",
    "pass"
   ]
  },
  {
   "cell_type": "code",
   "execution_count": 17,
   "metadata": {},
   "outputs": [
    {
     "name": "stdout",
     "output_type": "stream",
     "text": [
      "CPU times: user 2.19 s, sys: 0 ns, total: 2.19 s\n",
      "Wall time: 2.19 s\n",
      "CPU times: user 13.7 ms, sys: 0 ns, total: 13.7 ms\n",
      "Wall time: 13.2 ms\n"
     ]
    }
   ],
   "source": [
    "%time cov_manual(X)\n",
    "%time cov(X)\n",
    "pass"
   ]
  },
  {
   "cell_type": "code",
   "execution_count": 18,
   "metadata": {},
   "outputs": [
    {
     "name": "stdout",
     "output_type": "stream",
     "text": [
      "CPU times: user 20 µs, sys: 0 ns, total: 20 µs\n",
      "Wall time: 22.6 µs\n",
      "CPU times: user 12 µs, sys: 0 ns, total: 12 µs\n",
      "Wall time: 14.5 µs\n"
     ]
    }
   ],
   "source": [
    "# alternative way of name function\n",
    "X_1 = np.arange(9).reshape(3,3)\n",
    "X_2 = np.arange(9).reshape(3,3)\n",
    "\n",
    "%time X_1 @ X_2\n",
    "%time np.dot(X_1, X_2)\n",
    "pass"
   ]
  },
  {
   "cell_type": "code",
   "execution_count": 19,
   "metadata": {},
   "outputs": [
    {
     "name": "stdout",
     "output_type": "stream",
     "text": [
      "CPU times: user 4 µs, sys: 0 ns, total: 4 µs\n",
      "Wall time: 5.96 µs\n",
      "CPU times: user 8 µs, sys: 0 ns, total: 8 µs\n",
      "Wall time: 10 µs\n"
     ]
    }
   ],
   "source": [
    "X_1 = np.arange(9).reshape(3,3)\n",
    "\n",
    "%time X_1.T\n",
    "%time np.transpose(X_1)\n",
    "pass"
   ]
  },
  {
   "cell_type": "code",
   "execution_count": 20,
   "metadata": {},
   "outputs": [
    {
     "name": "stdout",
     "output_type": "stream",
     "text": [
      "CPU times: user 3 µs, sys: 0 ns, total: 3 µs\n",
      "Wall time: 4.77 µs\n",
      "CPU times: user 75 µs, sys: 2 µs, total: 77 µs\n",
      "Wall time: 76.5 µs\n"
     ]
    }
   ],
   "source": [
    "m = [[3,8],[4,6]]\n",
    "\n",
    "%time det = m[0][0] * m[1][1] - m[0][1] * m[1][0]\n",
    "%time np.linalg.det(m)\n",
    "pass"
   ]
  },
  {
   "cell_type": "code",
   "execution_count": 21,
   "metadata": {},
   "outputs": [],
   "source": [
    "def time(f, repeat=10):\n",
    "    times = []\n",
    "    for _ in range(repeat):\n",
    "        start = timeit.default_timer()\n",
    "        f()\n",
    "        stop = timeit.default_timer()\n",
    "        times.append(stop-start)\n",
    "    return np.mean(times), np.std(times)"
   ]
  },
  {
   "cell_type": "code",
   "execution_count": 22,
   "metadata": {},
   "outputs": [],
   "source": [
    "def time_plot(func, func_manual):\n",
    "    fast_time = []\n",
    "    slow_time = []\n",
    "\n",
    "    for size in np.arange(100, 5000, step=100):\n",
    "        X = np.random.randn(size, 20)\n",
    "        f = lambda : func(X)\n",
    "        mu, sigma = time(f)\n",
    "        fast_time.append((size, mu, sigma))\n",
    "\n",
    "        f = lambda : func_manual(X)\n",
    "        mu, sigma = time(f)\n",
    "        slow_time.append((size, mu, sigma))\n",
    "\n",
    "    fast_time = np.array(fast_time)\n",
    "    slow_time = np.array(slow_time)\n",
    "    \n",
    "    fig, ax = plt.subplots()\n",
    "    ax.errorbar(fast_time[:,0], fast_time[:,1], fast_time[:,2], label='in-build', linewidth=2)\n",
    "    ax.errorbar(slow_time[:,0], slow_time[:,1], slow_time[:,2], label='manual', linewidth=2)\n",
    "    ax.set_xlabel('Size of dataset')\n",
    "    ax.set_ylabel('Running time')\n",
    "    plt.legend();"
   ]
  },
  {
   "cell_type": "code",
   "execution_count": 23,
   "metadata": {},
   "outputs": [
    {
     "data": {
      "image/png": "[encoded data removed]",
      "text/plain": [
       "<Figure size 432x288 with 1 Axes>"
      ]
     },
     "metadata": {
      "needs_background": "light"
     },
     "output_type": "display_data"
    }
   ],
   "source": [
    "time_plot(mean, mean_manual)"
   ]
  },
  {
   "cell_type": "code",
   "execution_count": 24,
   "metadata": {},
   "outputs": [
    {
     "data": {
      "image/png": "[encoded data removed]",
      "text/plain": [
       "<Figure size 432x288 with 1 Axes>"
      ]
     },
     "metadata": {
      "needs_background": "light"
     },
     "output_type": "display_data"
    }
   ],
   "source": [
    "time_plot(sum_, sum_manual)"
   ]
  },
  {
   "cell_type": "code",
   "execution_count": 25,
   "metadata": {},
   "outputs": [
    {
     "data": {
      "image/png": "[encoded data removed]",
      "text/plain": [
       "<Figure size 432x288 with 1 Axes>"
      ]
     },
     "metadata": {
      "needs_background": "light"
     },
     "output_type": "display_data"
    }
   ],
   "source": [
    "time_plot(length, length_manual)"
   ]
  },
  {
   "cell_type": "code",
   "execution_count": 26,
   "metadata": {},
   "outputs": [
    {
     "data": {
      "image/png": "[encoded data removed]",
      "text/plain": [
       "<Figure size 432x288 with 1 Axes>"
      ]
     },
     "metadata": {
      "needs_background": "light"
     },
     "output_type": "display_data"
    }
   ],
   "source": [
    "time_plot(cov, cov_manual)"
   ]
  }
 ],
 "metadata": {
  "kernelspec": {
   "display_name": "Python 3",
   "language": "python",
   "name": "python3"
  },
  "language_info": {
   "codemirror_mode": {
    "name": "ipython",
    "version": 3
   },
   "file_extension": ".py",
   "mimetype": "text/x-python",
   "name": "python",
   "nbconvert_exporter": "python",
   "pygments_lexer": "ipython3",
   "version": "3.6.7"
  }
 },
 "nbformat": 4,
 "nbformat_minor": 2
}
