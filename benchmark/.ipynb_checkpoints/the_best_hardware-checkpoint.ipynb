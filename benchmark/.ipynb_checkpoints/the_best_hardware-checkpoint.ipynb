{
 "cells": [
  {
   "cell_type": "markdown",
   "metadata": {},
   "source": [
    "### Deep learning setup\n",
    "\n",
    "In this notebook I describe our deep learning's setup!\n",
    "The whole computer was built by my fiancé. Thanks Honey! https://github.com/Avatat"
   ]
  },
  {
   "cell_type": "markdown",
   "metadata": {},
   "source": [
    "Hardware:\n",
    "\n",
    "    - HP Z420 with 600 W PSU\n",
    "    - E5-1650 v2 (v2 is the oldest/cheapest CPU family with PCIe Atomics support)\n",
    "    - 32 GB RAM @ 1600 MHz\n",
    "    - RX 480 8 GB, blower-style cooling\n",
    "    - ADATA SU800\n",
    "\n",
    "Software:\n",
    "    - Ubuntu 18.10\n",
    "    - Kernel 4.19\n",
    "    - ROCm 1.9.2\n",
    "    - Tensorflow-rocm 1.12.0"
   ]
  },
  {
   "cell_type": "markdown",
   "metadata": {},
   "source": [
    "![IMG_0291.jpg](image/IMG_0291.jpg)"
   ]
  }
 ],
 "metadata": {
  "kernelspec": {
   "display_name": "Python 3",
   "language": "python",
   "name": "python3"
  },
  "language_info": {
   "codemirror_mode": {
    "name": "ipython",
    "version": 3
   },
   "file_extension": ".py",
   "mimetype": "text/x-python",
   "name": "python",
   "nbconvert_exporter": "python",
   "pygments_lexer": "ipython3",
   "version": "3.6.7"
  }
 },
 "nbformat": 4,
 "nbformat_minor": 2
}
