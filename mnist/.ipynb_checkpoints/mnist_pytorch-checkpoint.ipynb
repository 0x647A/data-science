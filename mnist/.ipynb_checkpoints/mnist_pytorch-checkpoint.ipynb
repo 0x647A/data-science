{
 "cells": [
  {
   "cell_type": "markdown",
   "metadata": {},
   "source": [
    "# Digit Recognizer\n",
    "\n",
    "Target: Take an image of a handwritten single digit, and determine what that digit is.\n",
    "\n",
    "Source: https://www.kaggle.com/c/digit-recognizer"
   ]
  },
  {
   "cell_type": "code",
   "execution_count": 1,
   "metadata": {},
   "outputs": [],
   "source": [
    "# data manipulation\n",
    "import numpy as np\n",
    "\n",
    "# PyTorch imports\n",
    "import torch \n",
    "import torch.nn as nn\n",
    "import torchvision.datasets as dset\n",
    "import torchvision.transforms as transform\n",
    "from torch.utils.data import DataLoader as dloader\n",
    "\n",
    "# data visualisation, live training loss plot\n",
    "import matplotlib.pyplot as plt"
   ]
  },
  {
   "cell_type": "code",
   "execution_count": 2,
   "metadata": {},
   "outputs": [],
   "source": [
    "# set parameters\n",
    "n_epoch = 2\n",
    "batch_size = 128\n",
    "learning_rate = 0.001\n",
    "n_workers = 1"
   ]
  },
  {
   "cell_type": "code",
   "execution_count": 3,
   "metadata": {},
   "outputs": [],
   "source": [
    "# define transform\n",
    "transform = transform.Compose(\n",
    "    [transform.ToTensor(),\n",
    "     transform.Normalize((0.1307,), (0.3081,))])"
   ]
  },
  {
   "cell_type": "code",
   "execution_count": 4,
   "metadata": {},
   "outputs": [],
   "source": [
    "# define dataset and dataloader\n",
    "train_dset = dset.MNIST(root = './data', train = True,\n",
    "                        download = True, transform = transform)\n",
    "test_dset = dset.MNIST(root = './data', train = False,\n",
    "                        download = True, transform = transform)\n",
    "\n",
    "train_loader = dloader(train_dset, batch_size = batch_size, \n",
    "                       shuffle = True, num_workers = n_workers)\n",
    "test_loader = dloader(test_dset, batch_size = batch_size, \n",
    "                       shuffle = False, num_workers = n_workers)"
   ]
  },
  {
   "cell_type": "code",
   "execution_count": 5,
   "metadata": {},
   "outputs": [
    {
     "name": "stdout",
     "output_type": "stream",
     "text": [
      "torch.Size([128, 1, 28, 28])\n",
      "60000\n",
      "1\n"
     ]
    }
   ],
   "source": [
    "# some information\n",
    "sample_img = iter(train_loader)\n",
    "images, labels = sample_img.next()\n",
    "\n",
    "# shape\n",
    "print(images.shape)\n",
    "\n",
    "# length\n",
    "print(len(train_dset))\n",
    "print(len(test_dset[0][0]))"
   ]
  },
  {
   "cell_type": "code",
   "execution_count": 6,
   "metadata": {},
   "outputs": [],
   "source": [
    "#print random digit\n",
    "def random_digits():\n",
    "    \n",
    "    plt.figure(figsize = (10, 10))\n",
    "   \n",
    "    rand_indexes = np.random.randint(0, images.shape[0], 12)\n",
    "    for index,im_index in enumerate(rand_indexes):\n",
    "        plt.subplot(4, 4, index+1)\n",
    "        plt.imshow(images[im_index][0], cmap = 'summer', interpolation = 'none')\n",
    "        plt.title('Class %d' % labels[im_index])\n",
    "    plt.tight_layout()"
   ]
  },
  {
   "cell_type": "code",
   "execution_count": 7,
   "metadata": {
    "scrolled": false
   },
   "outputs": [
    {
     "data": {
      "image/png": "[encoded data removed]",
      "text/plain": [
       "<Figure size 720x720 with 12 Axes>"
      ]
     },
     "metadata": {},
     "output_type": "display_data"
    }
   ],
   "source": [
    "random_digits()"
   ]
  },
  {
   "cell_type": "code",
   "execution_count": 8,
   "metadata": {},
   "outputs": [],
   "source": [
    "class MNISTnet(nn.Module):\n",
    "    def __init__(self):\n",
    "        super().__init__()\n",
    "        self.layer1 = nn.Sequential(\n",
    "            nn.Conv2d(1, 32, kernel_size = 3, padding = 2),\n",
    "            nn.Conv2d(32, 32, kernel_size = 3, padding = 2),\n",
    "            nn.ReLU(),\n",
    "            nn.MaxPool2d(2, 2),\n",
    "            nn.Dropout2d(0.25))\n",
    "        self.layer2 = nn.Sequential(\n",
    "            nn.Conv2d(32, 64, kernel_size = 3, padding = 2),\n",
    "            nn.Conv2d(64, 64, kernel_size = 3, padding = 2),\n",
    "            nn.ReLU(),\n",
    "            nn.MaxPool2d(2, 2),\n",
    "            nn.Dropout2d(0.25))\n",
    "        self.layer3 = nn.Sequential(\n",
    "            nn.Conv2d(64, 128, kernel_size = 3, padding = 2),\n",
    "            nn.Conv2d(128, 128, kernel_size = 3, padding = 2),\n",
    "            nn.ReLU(),\n",
    "            nn.MaxPool2d(2, 2),\n",
    "            nn.Dropout2d(0.25))\n",
    "        self.fc_1 = nn.Linear(7*7*128, 1000)\n",
    "        self.fc_2 = nn.Linear(1000, 10)\n",
    "        \n",
    "    def forward(self, x):\n",
    "        out = self.layer1(x)\n",
    "        out = self.layer2(out)\n",
    "        out = self.layer3(out)\n",
    "        out = out.view(out.size(0), -1)\n",
    "        out = self.fc_1(out)\n",
    "        out = self.fc_2(out)\n",
    "        return out"
   ]
  },
  {
   "cell_type": "code",
   "execution_count": 9,
   "metadata": {},
   "outputs": [],
   "source": [
    "# initialize net \n",
    "mnist_net = MNISTnet()\n",
    "\n",
    "# loss function, optimizer\n",
    "criterion = nn.CrossEntropyLoss()\n",
    "optimizer = torch.optim.SGD(mnist_net.parameters(),\n",
    "                      lr = learning_rate)"
   ]
  },
  {
   "cell_type": "code",
   "execution_count": 10,
   "metadata": {},
   "outputs": [
    {
     "name": "stdout",
     "output_type": "stream",
     "text": [
      "Epoch: 1, Iteration: 1, Loss: 2.3006\n",
      "Epoch: 1, Iteration: 129, Loss: 2.3022\n",
      "Epoch: 1, Iteration: 257, Loss: 2.3039\n",
      "Epoch: 1, Iteration: 385, Loss: 2.3015\n",
      "Epoch: 2, Iteration: 1, Loss: 2.3037\n",
      "Epoch: 2, Iteration: 129, Loss: 2.3009\n",
      "Epoch: 2, Iteration: 257, Loss: 2.2996\n",
      "Epoch: 2, Iteration: 385, Loss: 2.2969\n"
     ]
    }
   ],
   "source": [
    "# train the network\n",
    "train_losses = []\n",
    "\n",
    "for epoch in range(n_epoch):\n",
    "    for idx, (images, target) in enumerate(train_loader):\n",
    "        optimizer.zero_grad()\n",
    "        output = mnist_net(images)\n",
    "        loss = criterion(output, target)\n",
    "        loss.backward()\n",
    "        optimizer.step()\n",
    "        train_losses.append(loss.item())\n",
    "        \n",
    "        if idx % 128 == 0:\n",
    "            print('Epoch: %d, Iteration: %d, Loss: %.4f' \n",
    "                  % (epoch + 1, idx + 1, loss.item()))"
   ]
  },
  {
   "cell_type": "code",
   "execution_count": null,
   "metadata": {},
   "outputs": [],
   "source": []
  }
 ],
 "metadata": {
  "kernelspec": {
   "display_name": "Python 3",
   "language": "python",
   "name": "python3"
  },
  "language_info": {
   "codemirror_mode": {
    "name": "ipython",
    "version": 3
   },
   "file_extension": ".py",
   "mimetype": "text/x-python",
   "name": "python",
   "nbconvert_exporter": "python",
   "pygments_lexer": "ipython3",
   "version": "3.6.7"
  }
 },
 "nbformat": 4,
 "nbformat_minor": 2
}
