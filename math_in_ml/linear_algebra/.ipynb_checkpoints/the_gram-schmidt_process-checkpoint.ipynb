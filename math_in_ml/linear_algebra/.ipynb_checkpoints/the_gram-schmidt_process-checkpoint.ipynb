{
 "cells": [
  {
   "cell_type": "markdown",
   "metadata": {},
   "source": [
    "#### The Gram-Schmidt process\n",
    "\n",
    "Is a method which orthonormalising set of linear independents vectors.\n",
    "\n",
    "V = {v1, v2, ..., vn}\n",
    "   - v1 = v1, e1 = v1/|v1|\n",
    "   - v2 = (v2 * e1) * e1 + u2, u2 = v2 - (v2 * e1) * e1, u2/|u2| = e2\n",
    "   - ...\n",
    "   - un = vn - sum projection oberator uj (vn)\n",
    "   \n",
    "Steps:\n",
    "    1. Input: matrix containing list of vectors\n",
    "        * first column will make be normal only;\n",
    "        * rest of them - we will use formula\n",
    "    2. Set vectors to be orthogonal\n",
    "    3. Normalising vectors"
   ]
  },
  {
   "cell_type": "code",
   "execution_count": 2,
   "metadata": {},
   "outputs": [],
   "source": [
    "# imports\n",
    "import numpy as np\n",
    "import numpy.linalg as la"
   ]
  },
  {
   "cell_type": "code",
   "execution_count": 3,
   "metadata": {},
   "outputs": [],
   "source": [
    "def gram_schmidt(M) :\n",
    "    C = np.array(M, dtype=np.float_) \n",
    "    # must have current vecor and previous so I code two for loops\n",
    "    for i in range(C.shape[1]) :\n",
    "        for j in range(i) :\n",
    "            # the gram-schmidt formula\n",
    "            C[:, i] = C[:, i] - C[:, i] @ C[:, j] * C[:, j]\n",
    "        # normalisation\n",
    "        if la.norm(C[:, i]) > small_number:\n",
    "            C[:, i] = C[:, i] / la.norm(C[:, i])\n",
    "        else :\n",
    "            C[:, i] = np.zeros_like(C[:, i])               \n",
    "    return C"
   ]
  },
  {
   "cell_type": "code",
   "execution_count": 4,
   "metadata": {},
   "outputs": [],
   "source": [
    "# number, which I use to normalisation\n",
    "small_number = 1e-18\n",
    "\n",
    "# prepare matrix to check out\n",
    "M = np.array([[1,8,1,9],\n",
    "              [2,5,9,9],\n",
    "              [3,8,-3,1],\n",
    "              [1,-5,0,1]])"
   ]
  },
  {
   "cell_type": "code",
   "execution_count": 5,
   "metadata": {},
   "outputs": [
    {
     "data": {
      "text/plain": [
       "array([[ 0.25819889,  0.59414687,  0.00620173,  0.76176398],\n",
       "       [ 0.51639778,  0.0071584 ,  0.83555762, -0.18741812],\n",
       "       [ 0.77459667,  0.06442556, -0.54843421, -0.30833304],\n",
       "       [ 0.25819889, -0.80174036, -0.03201434,  0.53807139]])"
      ]
     },
     "execution_count": 5,
     "metadata": {},
     "output_type": "execute_result"
    }
   ],
   "source": [
    "gram_schmidt(M)"
   ]
  }
 ],
 "metadata": {
  "kernelspec": {
   "display_name": "Python 3",
   "language": "python",
   "name": "python3"
  },
  "language_info": {
   "codemirror_mode": {
    "name": "ipython",
    "version": 3
   },
   "file_extension": ".py",
   "mimetype": "text/x-python",
   "name": "python",
   "nbconvert_exporter": "python",
   "pygments_lexer": "ipython3",
   "version": "3.6.7"
  }
 },
 "nbformat": 4,
 "nbformat_minor": 2
}
