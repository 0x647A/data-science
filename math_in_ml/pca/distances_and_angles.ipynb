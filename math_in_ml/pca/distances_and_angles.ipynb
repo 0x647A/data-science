{
 "cells": [
  {
   "cell_type": "markdown",
   "metadata": {},
   "source": [
    "### Distance and angles between two vectors\n",
    "\n",
    "The distance between two vectors is defined as the length of the vector subtraction.\n",
    "\n",
    "Formula that the distance is defined by the dot product is \n",
    "$$ d(\\boldsymbol{x},\\boldsymbol{y}) = \\lVert \\boldsymbol{x} - \\boldsymbol{y} \\rVert, $$\n",
    "and the angle is defined by the dot product is \n",
    "$$ \\boldsymbol{x}^T \\boldsymbol{y} = \\lVert \\boldsymbol{x} \\rVert \\lVert \\boldsymbol{y} \\rVert cos \\theta$$\n",
    "\n",
    "As an example, I will use a MNIST dataset"
   ]
  },
  {
   "cell_type": "code",
   "execution_count": 1,
   "metadata": {},
   "outputs": [],
   "source": [
    "# imports\n",
    "import numpy as np\n",
    "from scipy.spatial import distance\n",
    "import matplotlib.pyplot as plt\n",
    "import sklearn\n",
    "from sklearn.datasets import fetch_mldata"
   ]
  },
  {
   "cell_type": "code",
   "execution_count": 2,
   "metadata": {},
   "outputs": [],
   "source": [
    "def distance(x, y):\n",
    "    x = np.array(x, dtype=np.float).ravel()\n",
    "    y = np.array(y, dtype=np.float).ravel()\n",
    "    distance = np.linalg.norm(x - y)\n",
    "    return distance\n",
    "\n",
    "def angle(x, y):\n",
    "    angle = np.arccos(np.dot(x, y)  / (np.sqrt(np.dot(x.T, x) * np.dot(y.T, y))))\n",
    "    return angle\n",
    "\n",
    "def pairwise_distance_matrix(X, Y):\n",
    "    N, D = X.shape\n",
    "    M, _ = Y.shape\n",
    "    distance_matrix = np.zeros((N, M), dtype=np.float)\n",
    "    for i in range(N):\n",
    "        for j in range(M):\n",
    "            distance_matrix[i,j] = distance(X[i], Y[j])\n",
    "    return distance_matrix"
   ]
  },
  {
   "cell_type": "code",
   "execution_count": 3,
   "metadata": {},
   "outputs": [
    {
     "name": "stdout",
     "output_type": "stream",
     "text": [
      "correct\n"
     ]
    }
   ],
   "source": [
    "a = np.array([1,0])\n",
    "b = np.array([0,1])\n",
    "np.testing.assert_almost_equal(distance(a, b), np.sqrt(2))\n",
    "assert((angle(a,b) / (np.pi * 2) * 360.) == 90)\n",
    "print('correct')"
   ]
  },
  {
   "cell_type": "markdown",
   "metadata": {},
   "source": [
    "And now I check out that the same digit have different distance and how are different classes different for MNIST digit."
   ]
  },
  {
   "cell_type": "code",
   "execution_count": 5,
   "metadata": {},
   "outputs": [],
   "source": [
    "MNIST = fetch_mldata('MNIST original', data_home='./MNIST')\n",
    "distances = []\n",
    "for i in range(len(MNIST.data[:500])):\n",
    "    for j in range(len(MNIST.data[:500])):\n",
    "        distances.append(distance(MNIST.data[i], MNIST.data[j]))"
   ]
  },
  {
   "cell_type": "code",
   "execution_count": 6,
   "metadata": {},
   "outputs": [],
   "source": [
    "def similarity():\n",
    "    min_distance = distance(MNIST.data[0], MNIST.data[1])\n",
    "    for index,image in enumerate(MNIST.data[2:]):\n",
    "        actual_distance = distance(image, MNIST.data[0])\n",
    "        if actual_distance < min_distance:\n",
    "            min_distance = actual_distance\n",
    "            min_index = index\n",
    "    \n",
    "    return index"
   ]
  },
  {
   "cell_type": "code",
   "execution_count": 7,
   "metadata": {},
   "outputs": [],
   "source": [
    "means = {}\n",
    "for n in np.unique(MNIST.target).astype(np.int):\n",
    "    means[n] = np.mean(MNIST.data[MNIST.target==n], axis=0)"
   ]
  },
  {
   "cell_type": "code",
   "execution_count": 8,
   "metadata": {},
   "outputs": [],
   "source": [
    "MD = np.zeros((10, 10))\n",
    "AG = np.zeros((10, 10))\n",
    "for i in means.keys():\n",
    "    for j in means.keys():\n",
    "        MD[i, j] = distance(means[i], means[j])\n",
    "        AG[i, j] = angle(means[i], means[j])"
   ]
  }
 ],
 "metadata": {
  "kernelspec": {
   "display_name": "Python 3",
   "language": "python",
   "name": "python3"
  },
  "language_info": {
   "codemirror_mode": {
    "name": "ipython",
    "version": 3
   },
   "file_extension": ".py",
   "mimetype": "text/x-python",
   "name": "python",
   "nbconvert_exporter": "python",
   "pygments_lexer": "ipython3",
   "version": "3.6.7"
  }
 },
 "nbformat": 4,
 "nbformat_minor": 2
}
