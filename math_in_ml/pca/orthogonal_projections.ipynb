{
 "cells": [
  {
   "cell_type": "markdown",
   "metadata": {},
   "source": [
    "### Orthogonal projections\n",
    "\n",
    "Let's start what does it mean orthogonality? When we have two vectors for example u and v, and vector space with bilinear form B are orthogonal when B(u,v) = 0. Simple -> orthogonality = perpendicularity.\n",
    "\n",
    "Projection? It is a linear transformation. Especially vector projections is a projection of one vector onto the other vector.\n",
    "\n",
    "And we have orthogonal + projections :-) \n",
    "\n",
    "Formula: \n",
    "   - for projection of a vector 𝑥 onto a 1-dimensional subspace 𝑈 with basis vector 𝑏 we have\n",
    "$${\\pi_U}(\\boldsymbol x) = \\frac{\\boldsymbol b\\boldsymbol b^T}{{\\lVert \\boldsymbol b \\rVert}^2}\\boldsymbol x $$\n",
    "\n",
    "   - for the general projection onto an M-dimensional subspace $U$ with basis vectors $\\boldsymbol b_1,\\dotsc, \\boldsymbol b_M$ we have\n",
    "\n",
    "$${\\pi_U}(\\boldsymbol x) = \\boldsymbol B(\\boldsymbol B^T\\boldsymbol B)^{-1}\\boldsymbol B^T\\boldsymbol x $$\n",
    "\n",
    "Steps to implement:\n",
    "    1. Projections matrix (any x onto U)\n",
    "    2. Generalized the projected vector"
   ]
  },
  {
   "cell_type": "code",
   "execution_count": 1,
   "metadata": {},
   "outputs": [],
   "source": [
    "# imports\n",
    "import numpy as np"
   ]
  },
  {
   "cell_type": "code",
   "execution_count": 2,
   "metadata": {},
   "outputs": [],
   "source": [
    "# for 1-dimension\n",
    "def projection_matrix_1d(b):\n",
    "    \"\"\"Compute the projection matrix onto the space spanned by `b`\n",
    "    Args:\n",
    "        b: ndarray of dimension (D,), the basis for the subspace\n",
    "    \n",
    "    Returns:\n",
    "        P: the projection matrix\n",
    "    \"\"\"\n",
    "    D, = b.shape\n",
    "    P = np.outer(b , b.T) / (b.T @ b)\n",
    "    return P\n",
    "\n",
    "def project_1d(x, b):\n",
    "    \"\"\"Compute the projection matrix onto the space spanned by `b`\n",
    "    Args:\n",
    "        x: the vector to be projected\n",
    "        b: ndarray of dimension (D,), the basis for the subspace\n",
    "    \n",
    "    Returns:\n",
    "        y: projection of x in space spanned by b\n",
    "    \"\"\"\n",
    "    p = projection_matrix_1d(b) @ x\n",
    "    return p"
   ]
  },
  {
   "cell_type": "code",
   "execution_count": 3,
   "metadata": {},
   "outputs": [],
   "source": [
    "# general\n",
    "def projection_matrix_general(B):\n",
    "    \"\"\"Compute the projection matrix onto the space spanned by `B`\n",
    "    Args:\n",
    "        B: ndarray of dimension (D, M), the basis for the subspace\n",
    "    \n",
    "    Returns:\n",
    "        P: the projection matrix\n",
    "    \"\"\"\n",
    "    P = (B @ np.linalg.inv(B.T @ B)) @ B.T\n",
    "    return P\n",
    "\n",
    "def project_general(x, B):\n",
    "    \"\"\"Compute the projection matrix onto the space spanned by `B`\n",
    "    Args:\n",
    "        B: ndarray of dimension (D, E), the basis for the subspace\n",
    "    \n",
    "    Returns:\n",
    "        y: projection of x in space spanned by b\n",
    "    \"\"\"\n",
    "    p = projection_matrix_general(B) @ x\n",
    "    return p"
   ]
  },
  {
   "cell_type": "code",
   "execution_count": 4,
   "metadata": {},
   "outputs": [],
   "source": [
    "import numpy.testing as np_test\n",
    "def test_property_projection_matrix(P):\n",
    "    \"\"\"Test if the projection matrix satisfies certain properties.\"\"\"\n",
    "    np_test.assert_almost_equal(P, P @ P)\n",
    "    np_test.assert_almost_equal(P, P.T)\n",
    "\n",
    "def test_property_projection(x, p):\n",
    "    \"\"\"Test orthogonality of x and its projection p.\"\"\"\n",
    "    np_test.assert_almost_equal(np.dot(p-x, p), 0)"
   ]
  },
  {
   "cell_type": "code",
   "execution_count": 5,
   "metadata": {},
   "outputs": [],
   "source": [
    "# define basis vector for subspace\n",
    "b = np.array([2,1]).reshape(-1,1)\n",
    "# point to be projected\n",
    "x = np.array([1,2]).reshape(-1, 1)"
   ]
  },
  {
   "cell_type": "code",
   "execution_count": 6,
   "metadata": {},
   "outputs": [
    {
     "name": "stdout",
     "output_type": "stream",
     "text": [
      "correct\n"
     ]
    }
   ],
   "source": [
    "# test 1D\n",
    "np_test.assert_almost_equal(projection_matrix_1d(np.array([1, 2, 2])), \n",
    "                            np.array([[1,  2,  2],\n",
    "                                      [2,  4,  4],\n",
    "                                      [2,  4,  4]]) / 9)\n",
    "\n",
    "np_test.assert_almost_equal(project_1d(np.ones(3),\n",
    "                                       np.array([1, 2, 2])),\n",
    "                            np.array([5, 10, 10]) / 9)\n",
    "\n",
    "B = np.array([[1, 0],\n",
    "              [1, 1],\n",
    "              [1, 2]])\n",
    "\n",
    "# test general\n",
    "np_test.assert_almost_equal(projection_matrix_general(B), \n",
    "                            np.array([[5,  2, -1],\n",
    "                                      [2,  2,  2],\n",
    "                                      [-1, 2,  5]]) / 6)\n",
    "\n",
    "np_test.assert_almost_equal(project_general(np.array([6, 0, 0]), B), \n",
    "                            np.array([5, 2, -1]))\n",
    "print('correct')"
   ]
  }
 ],
 "metadata": {
  "kernelspec": {
   "display_name": "Python 3",
   "language": "python",
   "name": "python3"
  },
  "language_info": {
   "codemirror_mode": {
    "name": "ipython",
    "version": 3
   },
   "file_extension": ".py",
   "mimetype": "text/x-python",
   "name": "python",
   "nbconvert_exporter": "python",
   "pygments_lexer": "ipython3",
   "version": "3.6.7"
  }
 },
 "nbformat": 4,
 "nbformat_minor": 2
}
