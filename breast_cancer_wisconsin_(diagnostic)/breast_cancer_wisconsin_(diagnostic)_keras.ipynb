{
 "cells": [
  {
   "cell_type": "markdown",
   "metadata": {},
   "source": [
    "# Breast Cancer Wisconsin (Diagnostic)\n",
    "\n",
    "Target: Predict whether the cancer is benign or malignant\n",
    "\n",
    "Source: https://www.kaggle.com/uciml/breast-cancer-wisconsin-data\n",
    "\n",
    "In this notebook, I will touch medicine in practice. I analyze breast cancer Wisconsin. It is a diagnostic data set.\n",
    "I studied computer science in medicine, so now I would like to combine medical knowledge with machine learning.\n",
    "\n",
    "Features are computed from a digitized image of a fine needle aspirate (FNA) of a breast mass. Fine-needle aspiration (FNA) is a diagnostic procedure used to investigate lumps or masses. In this technique, a thin (23–25 gauge), hollow needle is inserted into the mass for sampling of cells that, after being stained, will be examined under a microscope (biopsy).\n",
    "\n",
    "https://en.wikipedia.org/wiki/Fine-needle_aspiration\n",
    "\n",
    "This is Keras version."
   ]
  },
  {
   "cell_type": "code",
   "execution_count": 1,
   "metadata": {},
   "outputs": [
    {
     "name": "stderr",
     "output_type": "stream",
     "text": [
      "Using TensorFlow backend.\n"
     ]
    }
   ],
   "source": [
    "import numpy as np\n",
    "import pandas as pd\n",
    "\n",
    "from sklearn import preprocessing\n",
    "from sklearn.model_selection import train_test_split\n",
    "\n",
    "import keras\n",
    "from keras.models import Sequential\n",
    "from keras.layers import Dense, Dropout, Flatten, Conv2D, MaxPool2D"
   ]
  },
  {
   "cell_type": "code",
   "execution_count": 2,
   "metadata": {},
   "outputs": [],
   "source": [
    "df = pd.read_csv('input/data.csv')\n",
    "df = df.drop(['id', 'Unnamed: 32'], 1)"
   ]
  },
  {
   "cell_type": "code",
   "execution_count": 3,
   "metadata": {},
   "outputs": [],
   "source": [
    "df['diagnosis_cat'] = pd.factorize(df['diagnosis'])[0]"
   ]
  },
  {
   "cell_type": "code",
   "execution_count": 4,
   "metadata": {},
   "outputs": [],
   "source": [
    "def feats(df):\n",
    "    feats_from_df = set(df.select_dtypes([np.int, np.float]).columns.values)\n",
    "    bad_feats = {'diagnosis_cat'}\n",
    "    return list(feats_from_df - bad_feats)\n",
    "\n",
    "df_scaled = df\n",
    "df_scaled[feats(df)] = preprocessing.scale(df[feats(df)])"
   ]
  },
  {
   "cell_type": "code",
   "execution_count": 5,
   "metadata": {},
   "outputs": [],
   "source": [
    "X = df_scaled[feats(df_scaled)].values\n",
    "y = df_scaled['diagnosis_cat']"
   ]
  },
  {
   "cell_type": "code",
   "execution_count": 6,
   "metadata": {},
   "outputs": [],
   "source": [
    "def mlp_net():    \n",
    "    model = Sequential([\n",
    "        # first hodden layer + size of input layer\n",
    "        Dense(output_dim=16, init='uniform', activation='relu', input_dim=30),\n",
    "        # dropout - figth with overfitting\n",
    "        Dropout(0.1),\n",
    "        # second hidden layer\n",
    "        Dense(output_dim=16, init='uniform', activation='relu'),\n",
    "        Dropout(0.05),\n",
    "        # output layer\n",
    "        Dense(output_dim=1, init='uniform', activation='sigmoid')])\n",
    "    return model"
   ]
  },
  {
   "cell_type": "code",
   "execution_count": 7,
   "metadata": {},
   "outputs": [
    {
     "name": "stdout",
     "output_type": "stream",
     "text": [
      "_________________________________________________________________\n",
      "Layer (type)                 Output Shape              Param #   \n",
      "=================================================================\n",
      "dense_1 (Dense)              (None, 16)                496       \n",
      "_________________________________________________________________\n",
      "dropout_1 (Dropout)          (None, 16)                0         \n",
      "_________________________________________________________________\n",
      "dense_2 (Dense)              (None, 16)                272       \n",
      "_________________________________________________________________\n",
      "dropout_2 (Dropout)          (None, 16)                0         \n",
      "_________________________________________________________________\n",
      "dense_3 (Dense)              (None, 1)                 17        \n",
      "=================================================================\n",
      "Total params: 785\n",
      "Trainable params: 785\n",
      "Non-trainable params: 0\n",
      "_________________________________________________________________\n"
     ]
    },
    {
     "name": "stderr",
     "output_type": "stream",
     "text": [
      "/usr/local/lib/python3.6/dist-packages/ipykernel_launcher.py:4: UserWarning: Update your `Dense` call to the Keras 2 API: `Dense(activation=\"relu\", input_dim=30, units=16, kernel_initializer=\"uniform\")`\n",
      "  after removing the cwd from sys.path.\n",
      "/usr/local/lib/python3.6/dist-packages/ipykernel_launcher.py:8: UserWarning: Update your `Dense` call to the Keras 2 API: `Dense(activation=\"relu\", units=16, kernel_initializer=\"uniform\")`\n",
      "  \n",
      "/usr/local/lib/python3.6/dist-packages/ipykernel_launcher.py:11: UserWarning: Update your `Dense` call to the Keras 2 API: `Dense(activation=\"sigmoid\", units=1, kernel_initializer=\"uniform\")`\n",
      "  # This is added back by InteractiveShellApp.init_path()\n"
     ]
    }
   ],
   "source": [
    "mlp = mlp_net()\n",
    "mlp.summary()\n",
    "mlp.compile(loss = 'binary_crossentropy', optimizer = 'adam', metrics = ['accuracy'])"
   ]
  },
  {
   "cell_type": "code",
   "execution_count": 8,
   "metadata": {},
   "outputs": [
    {
     "name": "stdout",
     "output_type": "stream",
     "text": [
      "Epoch 1/15\n",
      "569/569 [==============================] - 2s 3ms/step - loss: 0.6925 - acc: 0.6784\n",
      "Epoch 2/15\n",
      "569/569 [==============================] - 0s 31us/step - loss: 0.6907 - acc: 0.6503\n",
      "Epoch 3/15\n",
      "569/569 [==============================] - 0s 31us/step - loss: 0.6880 - acc: 0.6819\n",
      "Epoch 4/15\n",
      "569/569 [==============================] - 0s 29us/step - loss: 0.6840 - acc: 0.7487\n",
      "Epoch 5/15\n",
      "569/569 [==============================] - 0s 29us/step - loss: 0.6783 - acc: 0.8243\n",
      "Epoch 6/15\n",
      "569/569 [==============================] - 0s 31us/step - loss: 0.6696 - acc: 0.8963\n",
      "Epoch 7/15\n",
      "569/569 [==============================] - 0s 29us/step - loss: 0.6569 - acc: 0.9244\n",
      "Epoch 8/15\n",
      "569/569 [==============================] - 0s 29us/step - loss: 0.6402 - acc: 0.9350\n",
      "Epoch 9/15\n",
      "569/569 [==============================] - 0s 29us/step - loss: 0.6176 - acc: 0.9420\n",
      "Epoch 10/15\n",
      "569/569 [==============================] - 0s 29us/step - loss: 0.5891 - acc: 0.9402\n",
      "Epoch 11/15\n",
      "569/569 [==============================] - 0s 30us/step - loss: 0.5543 - acc: 0.9455\n",
      "Epoch 12/15\n",
      "569/569 [==============================] - 0s 28us/step - loss: 0.5140 - acc: 0.9420\n",
      "Epoch 13/15\n",
      "569/569 [==============================] - 0s 29us/step - loss: 0.4708 - acc: 0.9385\n",
      "Epoch 14/15\n",
      "569/569 [==============================] - 0s 29us/step - loss: 0.4228 - acc: 0.9385\n",
      "Epoch 15/15\n",
      "569/569 [==============================] - 0s 30us/step - loss: 0.3777 - acc: 0.9420\n"
     ]
    }
   ],
   "source": [
    "mlp.fit(X, y, batch_size=128, epochs=15);"
   ]
  },
  {
   "cell_type": "code",
   "execution_count": 9,
   "metadata": {},
   "outputs": [
    {
     "name": "stdout",
     "output_type": "stream",
     "text": [
      "Epoch 1/15\n",
      "512/512 [==============================] - 0s 29us/step - loss: 0.3329 - acc: 0.9492\n",
      "Epoch 2/15\n",
      "512/512 [==============================] - 0s 27us/step - loss: 0.3022 - acc: 0.9531\n",
      "Epoch 3/15\n",
      "512/512 [==============================] - 0s 30us/step - loss: 0.2746 - acc: 0.9492\n",
      "Epoch 4/15\n",
      "512/512 [==============================] - 0s 28us/step - loss: 0.2492 - acc: 0.9551\n",
      "Epoch 5/15\n",
      "512/512 [==============================] - 0s 27us/step - loss: 0.2253 - acc: 0.9570\n",
      "Epoch 6/15\n",
      "512/512 [==============================] - 0s 27us/step - loss: 0.2066 - acc: 0.9551\n",
      "Epoch 7/15\n",
      "512/512 [==============================] - 0s 27us/step - loss: 0.1873 - acc: 0.9648\n",
      "Epoch 8/15\n",
      "512/512 [==============================] - 0s 26us/step - loss: 0.1740 - acc: 0.9668\n",
      "Epoch 9/15\n",
      "512/512 [==============================] - 0s 27us/step - loss: 0.1639 - acc: 0.9648\n",
      "Epoch 10/15\n",
      "512/512 [==============================] - 0s 26us/step - loss: 0.1527 - acc: 0.9727\n",
      "Epoch 11/15\n",
      "512/512 [==============================] - 0s 25us/step - loss: 0.1427 - acc: 0.9707\n",
      "Epoch 12/15\n",
      "512/512 [==============================] - 0s 30us/step - loss: 0.1329 - acc: 0.9688\n",
      "Epoch 13/15\n",
      "512/512 [==============================] - 0s 26us/step - loss: 0.1283 - acc: 0.9727\n",
      "Epoch 14/15\n",
      "512/512 [==============================] - 0s 29us/step - loss: 0.1200 - acc: 0.9688\n",
      "Epoch 15/15\n",
      "512/512 [==============================] - 0s 28us/step - loss: 0.1172 - acc: 0.9727\n"
     ]
    }
   ],
   "source": [
    "X_train, X_test, y_train, y_test = train_test_split(X, y, test_size = 0.1, random_state = 0)\n",
    "mlp.fit(X_train, y_train, batch_size=128, epochs=15);"
   ]
  },
  {
   "cell_type": "code",
   "execution_count": 10,
   "metadata": {},
   "outputs": [
    {
     "name": "stdout",
     "output_type": "stream",
     "text": [
      "Accuracy:  0.9473684116413719\n",
      "Error: 5.26%\n"
     ]
    }
   ],
   "source": [
    "result = mlp.evaluate(X_test, y_test, verbose = 0)\n",
    "print('Accuracy: ', result[1])\n",
    "print('Error: %.2f%%' % (100- result[1]*100))"
   ]
  }
 ],
 "metadata": {
  "kernelspec": {
   "display_name": "Python 3",
   "language": "python",
   "name": "python3"
  },
  "language_info": {
   "codemirror_mode": {
    "name": "ipython",
    "version": 3
   },
   "file_extension": ".py",
   "mimetype": "text/x-python",
   "name": "python",
   "nbconvert_exporter": "python",
   "pygments_lexer": "ipython3",
   "version": "3.6.7"
  }
 },
 "nbformat": 4,
 "nbformat_minor": 2
}
