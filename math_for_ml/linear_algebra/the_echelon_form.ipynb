{
 "cells": [
  {
   "cell_type": "markdown",
   "metadata": {},
   "source": [
    "#### Echelon form\n",
    "\n",
    " Steps: \n",
    "    1. Go through the matrix replacing rows\n",
    "    2. Try 1 in leading diagonal"
   ]
  },
  {
   "cell_type": "code",
   "execution_count": 1,
   "metadata": {},
   "outputs": [],
   "source": [
    "# imports\n",
    "import numpy as np"
   ]
  },
  {
   "cell_type": "code",
   "execution_count": 2,
   "metadata": {},
   "outputs": [],
   "source": [
    "# matrix 3x3\n",
    "M = np.array([\n",
    "    [1, 0, 0],\n",
    "    [0, 2, 2],\n",
    "    [3, 1, 3]\n",
    "])"
   ]
  },
  {
   "cell_type": "code",
   "execution_count": 3,
   "metadata": {},
   "outputs": [],
   "source": [
    "def is_singular(M) :\n",
    "    B = np.array(M)\n",
    "    try:\n",
    "        row_0(B)\n",
    "        row_1(B)\n",
    "        row_2(B)\n",
    "    except matrix_is_singular:\n",
    "        return True\n",
    "    return False\n",
    "\n",
    "class matrix_is_singular(Exception): pass\n",
    "\n",
    "def row_0(M) :\n",
    "    if M[0,0] == 0 :\n",
    "        M[0] = M[0] + M[1]\n",
    "    if M[0,0] == 0 :\n",
    "        M[0] = M[0] + M[2]\n",
    "    if M[0,0] == 0 :\n",
    "        M[0] = M[0] + M[3]\n",
    "    if M[0,0] == 0 :\n",
    "        raise matrix_is_singular(\"Something wrong!\")\n",
    "    M[0] = M[0] / M[0,0]\n",
    "    return M\n",
    "\n",
    "def row_1(M) :\n",
    "    M[1] = M[1] - M[1,0] * M[0]\n",
    "    if M[1,1] == 0 :\n",
    "        M[1] = M[1] + M[2]\n",
    "        M[1] = M[1] - M[1,0] * M[0]\n",
    "    if M[1,1] == 0 :\n",
    "        M[1] = M[1] + M[3]\n",
    "        M[1] = M[1] - M[1,0] * M[0]\n",
    "    if M[1,1] == 0 :\n",
    "        raise MatrixIsSingular()\n",
    "    M[1] = M[1] / M[1,1]\n",
    "    return M\n",
    "\n",
    "def row_2(M) :\n",
    "    M[2] = M[2] - M[2,0] * M[0]\n",
    "    M[2] = M[2] - M[2,1] * M[1]\n",
    "    \n",
    "    if M[2,2] == 0:\n",
    "        raise matrix_is_singular()\n",
    "    M[2] = M[2] / M[2,2]\n",
    "    return M"
   ]
  },
  {
   "cell_type": "code",
   "execution_count": 4,
   "metadata": {},
   "outputs": [
    {
     "data": {
      "text/plain": [
       "False"
      ]
     },
     "execution_count": 4,
     "metadata": {},
     "output_type": "execute_result"
    }
   ],
   "source": [
    "is_singular(M)"
   ]
  },
  {
   "cell_type": "code",
   "execution_count": 5,
   "metadata": {},
   "outputs": [
    {
     "data": {
      "text/plain": [
       "array([[1, 0, 0],\n",
       "       [0, 1, 1],\n",
       "       [0, 0, 1]])"
      ]
     },
     "execution_count": 5,
     "metadata": {},
     "output_type": "execute_result"
    }
   ],
   "source": [
    "row_0(M)\n",
    "row_1(M)\n",
    "row_2(M)"
   ]
  }
 ],
 "metadata": {
  "kernelspec": {
   "display_name": "Python 3",
   "language": "python",
   "name": "python3"
  },
  "language_info": {
   "codemirror_mode": {
    "name": "ipython",
    "version": 3
   },
   "file_extension": ".py",
   "mimetype": "text/x-python",
   "name": "python",
   "nbconvert_exporter": "python",
   "pygments_lexer": "ipython3",
   "version": "3.6.7"
  }
 },
 "nbformat": 4,
 "nbformat_minor": 2
}
