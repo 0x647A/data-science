{
 "cells": [
  {
   "cell_type": "markdown",
   "metadata": {},
   "source": [
    "## Page Rank\n",
    "\n",
    "This algorithm was developed by Larry Page and Sergey Brin, based on Eigen conceptions. PageRank generate a ranked list of web pages. It is based on connections between pages. PageRank analisys link and assigns it a numerical weigth to each element of hyperlinked set of documents, for example WWW. \n",
    "The algorithm is based on an idealrandom web surfer, who, when reaching a page, goes to next page by clicking any link on the page. When goes to website without links, surfer has equal probability of moving to any other page by typing URL.The design principle of PageRank is that important websites will be linked to by important websites.\n",
    "\n",
    "\n",
    "![title](image/PageRanks_Example.png)\n",
    "\n",
    "https://en.wikipedia.org/wiki/PageRank#/media/File:PageRanks-Example.jpg\n",
    "\n",
    "More info and helpful formula: https://en.wikipedia.org/wiki/PageRank\n",
    "\n",
    "PageRank is used by Google.\n",
    "\n",
    "Main concepts:\n",
    "    1. Eigenvectors - this is vectors, that have the same range befor and after transformation => T(v) = lamb * v\n",
    "    2. Eigenvalue - the amount by which each of these vector will be extended, for example\n",
    "    3. Eigenbasis - is a basis in which every vector is an eigenvector"
   ]
  },
  {
   "cell_type": "code",
   "execution_count": 2,
   "metadata": {},
   "outputs": [],
   "source": [
    "# imports\n",
    "import numpy as np\n",
    "import numpy.linalg as la"
   ]
  },
  {
   "cell_type": "code",
   "execution_count": 3,
   "metadata": {},
   "outputs": [],
   "source": [
    "def page_rank(linkMatrix, d) :\n",
    "    n = linkMatrix.shape[0]\n",
    "    M = d * linkMatrix + (1-d)/n * np.ones([n, n])\n",
    "    r = 100 * np.ones(n) / n\n",
    "    lastR = r\n",
    "    r = linkMatrix @ r\n",
    "    i = 0\n",
    "    while la.norm(lastR - r) > 0.01 :\n",
    "        lastR = r\n",
    "        r = M @ r\n",
    "        i += 1\n",
    "    return r"
   ]
  },
  {
   "cell_type": "code",
   "execution_count": 4,
   "metadata": {},
   "outputs": [],
   "source": [
    "internet_matrix = np.array([[0., 0.2, 0.2, 0.,  0.2],\n",
    "                            [0., 0.2, 0.2, 0.,  0.2],\n",
    "                            [0., 0.2, 0.2, 0.,  0.2],\n",
    "                            [0., 0.2, 0.2, 0.5, 0.2],\n",
    "                            [1., 0.2, 0.2, 0.5, 0.2]])"
   ]
  },
  {
   "cell_type": "code",
   "execution_count": 5,
   "metadata": {},
   "outputs": [
    {
     "data": {
      "text/plain": [
       "array([12.5009852, 12.5009852, 12.5009852, 24.9976562, 37.4993882])"
      ]
     },
     "execution_count": 5,
     "metadata": {},
     "output_type": "execute_result"
    }
   ],
   "source": [
    "page_rank(internet_matrix, 1)"
   ]
  },
  {
   "cell_type": "code",
   "execution_count": 13,
   "metadata": {},
   "outputs": [
    {
     "data": {
      "text/plain": [
       "array([12.5, 12.5, 12.5, 25. , 37.5])"
      ]
     },
     "execution_count": 13,
     "metadata": {},
     "output_type": "execute_result"
    }
   ],
   "source": [
    "# count eigenvectors and eigenvalues\n",
    "eigenvalue, eigenvector = la.eig(internet_matrix) \n",
    "sort = np.absolute(eigenvalue).argsort()[::-1] \n",
    "eigenvalue = eigenvalue[sort]\n",
    "eigenvector = eigenvector[:,sort]\n",
    "\n",
    "d = eigenvector[:, 0]\n",
    "100 * (d / np.sum(d))"
   ]
  },
  {
   "cell_type": "code",
   "execution_count": 10,
   "metadata": {},
   "outputs": [
    {
     "data": {
      "image/png": "[encoded data removed]",
      "text/plain": [
       "<Figure size 432x288 with 1 Axes>"
      ]
     },
     "metadata": {
      "needs_background": "light"
     },
     "output_type": "display_data"
    }
   ],
   "source": [
    "import matplotlib.pyplot as plt\n",
    "\n",
    "pr = page_rank(internet_matrix, 0.7)\n",
    "plt.bar(np.arange(pr.shape[0]), pr);"
   ]
  }
 ],
 "metadata": {
  "kernelspec": {
   "display_name": "Python 3",
   "language": "python",
   "name": "python3"
  },
  "language_info": {
   "codemirror_mode": {
    "name": "ipython",
    "version": 3
   },
   "file_extension": ".py",
   "mimetype": "text/x-python",
   "name": "python",
   "nbconvert_exporter": "python",
   "pygments_lexer": "ipython3",
   "version": "3.6.7"
  }
 },
 "nbformat": 4,
 "nbformat_minor": 2
}
