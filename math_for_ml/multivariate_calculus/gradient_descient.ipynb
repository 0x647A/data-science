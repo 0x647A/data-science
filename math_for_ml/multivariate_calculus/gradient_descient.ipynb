{
 "cells": [
  {
   "cell_type": "markdown",
   "metadata": {},
   "source": [
    "### Gradient descient\n",
    "\n",
    "It is the iteration optimization algorithm, which finds the minimum of a function. It is also known as steepest descent. \n",
    "\n",
    "For more formula: https://en.wikipedia.org/wiki/Gradient_descent\n",
    "\n",
    "In this notebook I try minimalize the Gaussian function (I would to obtain the best fitting):\n",
    "$$f(\\mathbf{x};\\mu, \\sigma) = \\frac{1}{\\sigma\\sqrt{2\\pi}}\\exp\\left(-\\frac{(\\mathbf{x} - \\mu)^2}{2\\sigma^2}\\right)$$\n",
    "\n",
    "To fitting we use sum of the squares $\\chi^2 = |\\mathbf{y} - f(\\mathbf{x};\\mu, \\sigma)|^2$\n",
    "Next we calculate Jacobian:\n",
    "$$ \\mathbf{J} = \\left[ \\frac{\\partial ( \\chi^2 ) }{\\partial \\mu} , \\frac{\\partial ( \\chi^2 ) }{\\partial \\sigma} \\right]\\;. $$\n"
   ]
  },
  {
   "cell_type": "code",
   "execution_count": 1,
   "metadata": {},
   "outputs": [],
   "source": [
    "# imports\n",
    "import numpy as np"
   ]
  },
  {
   "cell_type": "code",
   "execution_count": 2,
   "metadata": {},
   "outputs": [],
   "source": [
    "def gaussian (x,mu,sig) :\n",
    "    return np.exp(-(x-mu)**2/(2*sig**2)) / np.sqrt(2*np.pi) / sig\n",
    "\n",
    "def dfdmu (x,mu,sig) :\n",
    "    return gaussian(x, mu, sig) * (x-mu)/(sig**2)\n",
    "\n",
    "def dfdsig (x,mu,sig) :\n",
    "    return gaussian(x,mu,sig) * (-1/sig +((x-mu)**2)/sig**3)"
   ]
  },
  {
   "cell_type": "code",
   "execution_count": 3,
   "metadata": {},
   "outputs": [],
   "source": [
    "def gradient_descient (x, y, mu, sig, aggression) :\n",
    "    J = np.array([\n",
    "        -2*(y - gaussian(x,mu,sig)) @ dfdmu(x,mu,sig),\n",
    "        -2*(y - gaussian(x,mu,sig)) @ dfdsig(x,mu,sig)\n",
    "    ])\n",
    "    step = -J * aggression\n",
    "    return step"
   ]
  },
  {
   "cell_type": "markdown",
   "metadata": {},
   "source": [
    "Other methods, which I discovered on the course:\n",
    "    - Tylor series - we use it, when would approximate function. It is calculated from the values of the function's derivatives as a single point. The larger the row is now the approximation.\n",
    "    - Linearisation - it is method which non-linear function trying show as linear approximtion to a function at given point.\n",
    "    - Lagrange - it is method for finding local minimum / maximumof a function. Without parametrization\n",
    "    - Newton - Raphon - it is a method which help us better approximations to the roots function."
   ]
  }
 ],
 "metadata": {
  "kernelspec": {
   "display_name": "Python 3",
   "language": "python",
   "name": "python3"
  },
  "language_info": {
   "codemirror_mode": {
    "name": "ipython",
    "version": 3
   },
   "file_extension": ".py",
   "mimetype": "text/x-python",
   "name": "python",
   "nbconvert_exporter": "python",
   "pygments_lexer": "ipython3",
   "version": "3.6.7"
  }
 },
 "nbformat": 4,
 "nbformat_minor": 2
}
